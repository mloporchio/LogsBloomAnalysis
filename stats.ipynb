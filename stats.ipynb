{
 "cells": [
  {
   "cell_type": "code",
   "execution_count": 19,
   "id": "1206d1c7",
   "metadata": {},
   "outputs": [],
   "source": [
    "import pandas as pd\n",
    "import numpy as np\n",
    "import matplotlib.pyplot as plt\n",
    "import matplotlib.dates as mdates\n",
    "import datetime"
   ]
  },
  {
   "cell_type": "markdown",
   "id": "f084e214",
   "metadata": {},
   "source": [
    "# Filter analysis"
   ]
  },
  {
   "cell_type": "markdown",
   "id": "fe4c3ed0",
   "metadata": {},
   "source": [
    "In this section, we analyze all `logsBloom` filters contained in the first 15 million blocks of the Ethereum blockchain.\n",
    "\n",
    "For each block, we store the corresponding timestamp, the number of bits set to 1 in the filter (`numOnes`) and the ratio between `numOnes` and total number of bits `numBits` (i.e., 2048)."
   ]
  },
  {
   "cell_type": "code",
   "execution_count": 2,
   "id": "8b9192d8",
   "metadata": {},
   "outputs": [
    {
     "data": {
      "text/html": [
       "<div>\n",
       "<style scoped>\n",
       "    .dataframe tbody tr th:only-of-type {\n",
       "        vertical-align: middle;\n",
       "    }\n",
       "\n",
       "    .dataframe tbody tr th {\n",
       "        vertical-align: top;\n",
       "    }\n",
       "\n",
       "    .dataframe thead th {\n",
       "        text-align: right;\n",
       "    }\n",
       "</style>\n",
       "<table border=\"1\" class=\"dataframe\">\n",
       "  <thead>\n",
       "    <tr style=\"text-align: right;\">\n",
       "      <th></th>\n",
       "      <th>blockId</th>\n",
       "      <th>timestamp</th>\n",
       "      <th>numOnes</th>\n",
       "      <th>numBits</th>\n",
       "      <th>ratio</th>\n",
       "    </tr>\n",
       "  </thead>\n",
       "  <tbody>\n",
       "    <tr>\n",
       "      <th>0</th>\n",
       "      <td>0</td>\n",
       "      <td>1970-01-01 00:00:00</td>\n",
       "      <td>0</td>\n",
       "      <td>2048</td>\n",
       "      <td>0.0</td>\n",
       "    </tr>\n",
       "    <tr>\n",
       "      <th>1</th>\n",
       "      <td>1</td>\n",
       "      <td>2015-07-30 15:26:28</td>\n",
       "      <td>0</td>\n",
       "      <td>2048</td>\n",
       "      <td>0.0</td>\n",
       "    </tr>\n",
       "    <tr>\n",
       "      <th>2</th>\n",
       "      <td>2</td>\n",
       "      <td>2015-07-30 15:26:57</td>\n",
       "      <td>0</td>\n",
       "      <td>2048</td>\n",
       "      <td>0.0</td>\n",
       "    </tr>\n",
       "    <tr>\n",
       "      <th>3</th>\n",
       "      <td>3</td>\n",
       "      <td>2015-07-30 15:27:28</td>\n",
       "      <td>0</td>\n",
       "      <td>2048</td>\n",
       "      <td>0.0</td>\n",
       "    </tr>\n",
       "    <tr>\n",
       "      <th>4</th>\n",
       "      <td>4</td>\n",
       "      <td>2015-07-30 15:27:57</td>\n",
       "      <td>0</td>\n",
       "      <td>2048</td>\n",
       "      <td>0.0</td>\n",
       "    </tr>\n",
       "  </tbody>\n",
       "</table>\n",
       "</div>"
      ],
      "text/plain": [
       "   blockId           timestamp  numOnes  numBits  ratio\n",
       "0        0 1970-01-01 00:00:00        0     2048    0.0\n",
       "1        1 2015-07-30 15:26:28        0     2048    0.0\n",
       "2        2 2015-07-30 15:26:57        0     2048    0.0\n",
       "3        3 2015-07-30 15:27:28        0     2048    0.0\n",
       "4        4 2015-07-30 15:27:57        0     2048    0.0"
      ]
     },
     "execution_count": 2,
     "metadata": {},
     "output_type": "execute_result"
    }
   ],
   "source": [
    "dfs = []\n",
    "for i in range(0, 15):\n",
    "    start = i*1000000\n",
    "    end = start + 999999\n",
    "    dfs.append(pd.read_csv('data/filters_ones_{}-{}.csv'.format(start, end), header=None))\n",
    "filters_ones = pd.concat(dfs)\n",
    "filters_ones.columns = ['blockId', 'timestamp', 'numOnes']\n",
    "filters_ones['timestamp'] = filters_ones['timestamp'].values.astype(dtype='datetime64[s]')\n",
    "filters_ones['numBits'] = 2048\n",
    "filters_ones['ratio'] = filters_ones['numOnes'] / filters_ones['numBits']\n",
    "filters_ones.head()"
   ]
  },
  {
   "cell_type": "markdown",
   "id": "fa79fe2b",
   "metadata": {},
   "source": [
    "We print some basic statistics (i.e., average number of ones, standard deviation and average ratio)."
   ]
  },
  {
   "cell_type": "code",
   "execution_count": 3,
   "id": "6e3c5628",
   "metadata": {},
   "outputs": [
    {
     "name": "stdout",
     "output_type": "stream",
     "text": [
      "Avg. number of ones\t: 417.7440142666667\n",
      "Std. deviation\t\t: 371.3960266976995\n",
      "Avg. ratio\t\t: 0.20397656946614584\n"
     ]
    }
   ],
   "source": [
    "print('Avg. number of ones\\t: {}\\nStd. deviation\\t\\t: {}'.format(filters_ones.numOnes.mean(),filters_ones.numOnes.std()))\n",
    "print('Avg. ratio\\t\\t: {}'.format(filters_ones.ratio.mean()))"
   ]
  },
  {
   "cell_type": "markdown",
   "id": "21e215b8",
   "metadata": {},
   "source": [
    "Then we plot the distribution of the number of bits set to 1."
   ]
  },
  {
   "cell_type": "code",
   "execution_count": 4,
   "id": "c54a2f5e",
   "metadata": {},
   "outputs": [
    {
     "data": {
      "image/png": "[encoded data removed]",
      "text/plain": [
       "<Figure size 500x400 with 1 Axes>"
      ]
     },
     "metadata": {},
     "output_type": "display_data"
    }
   ],
   "source": [
    "plt.figure(figsize=(5, 4))\n",
    "plt.title('Distribution of ones')\n",
    "plt.xlabel('N. of ones')\n",
    "plt.ylabel('N. of blocks')\n",
    "plt.yscale('log')\n",
    "plt.hist(filters_ones['numOnes'], bins='auto', color='#648fff')\n",
    "plt.savefig(\"figures/dist_ones.pdf\", format='pdf', bbox_inches='tight')\n",
    "plt.show()"
   ]
  },
  {
   "cell_type": "markdown",
   "id": "15c05996",
   "metadata": {},
   "source": [
    "Now we compute the average number of ones and ratio for each year."
   ]
  },
  {
   "cell_type": "code",
   "execution_count": 14,
   "id": "bf7f7fc4",
   "metadata": {},
   "outputs": [
    {
     "data": {
      "text/html": [
       "<div>\n",
       "<style scoped>\n",
       "    .dataframe tbody tr th:only-of-type {\n",
       "        vertical-align: middle;\n",
       "    }\n",
       "\n",
       "    .dataframe tbody tr th {\n",
       "        vertical-align: top;\n",
       "    }\n",
       "\n",
       "    .dataframe thead th {\n",
       "        text-align: right;\n",
       "    }\n",
       "</style>\n",
       "<table border=\"1\" class=\"dataframe\">\n",
       "  <thead>\n",
       "    <tr style=\"text-align: right;\">\n",
       "      <th></th>\n",
       "      <th>numOnes</th>\n",
       "      <th>numBits</th>\n",
       "      <th>ratio</th>\n",
       "    </tr>\n",
       "    <tr>\n",
       "      <th>timestamp</th>\n",
       "      <th></th>\n",
       "      <th></th>\n",
       "      <th></th>\n",
       "    </tr>\n",
       "  </thead>\n",
       "  <tbody>\n",
       "    <tr>\n",
       "      <th>2015</th>\n",
       "      <td>0.914518</td>\n",
       "      <td>2048.0</td>\n",
       "      <td>0.000447</td>\n",
       "    </tr>\n",
       "    <tr>\n",
       "      <th>2016</th>\n",
       "      <td>6.727867</td>\n",
       "      <td>2048.0</td>\n",
       "      <td>0.003285</td>\n",
       "    </tr>\n",
       "    <tr>\n",
       "      <th>2017</th>\n",
       "      <td>111.158306</td>\n",
       "      <td>2048.0</td>\n",
       "      <td>0.054277</td>\n",
       "    </tr>\n",
       "    <tr>\n",
       "      <th>2018</th>\n",
       "      <td>362.787394</td>\n",
       "      <td>2048.0</td>\n",
       "      <td>0.177142</td>\n",
       "    </tr>\n",
       "    <tr>\n",
       "      <th>2019</th>\n",
       "      <td>447.308092</td>\n",
       "      <td>2048.0</td>\n",
       "      <td>0.218412</td>\n",
       "    </tr>\n",
       "    <tr>\n",
       "      <th>2020</th>\n",
       "      <td>632.564766</td>\n",
       "      <td>2048.0</td>\n",
       "      <td>0.308870</td>\n",
       "    </tr>\n",
       "    <tr>\n",
       "      <th>2021</th>\n",
       "      <td>805.251780</td>\n",
       "      <td>2048.0</td>\n",
       "      <td>0.393189</td>\n",
       "    </tr>\n",
       "    <tr>\n",
       "      <th>2022</th>\n",
       "      <td>808.040508</td>\n",
       "      <td>2048.0</td>\n",
       "      <td>0.394551</td>\n",
       "    </tr>\n",
       "  </tbody>\n",
       "</table>\n",
       "</div>"
      ],
      "text/plain": [
       "              numOnes  numBits     ratio\n",
       "timestamp                               \n",
       "2015         0.914518   2048.0  0.000447\n",
       "2016         6.727867   2048.0  0.003285\n",
       "2017       111.158306   2048.0  0.054277\n",
       "2018       362.787394   2048.0  0.177142\n",
       "2019       447.308092   2048.0  0.218412\n",
       "2020       632.564766   2048.0  0.308870\n",
       "2021       805.251780   2048.0  0.393189\n",
       "2022       808.040508   2048.0  0.394551"
      ]
     },
     "execution_count": 14,
     "metadata": {},
     "output_type": "execute_result"
    }
   ],
   "source": [
    "x = filters_ones.groupby([filters_ones.timestamp.dt.year]).mean('numOnes').drop(['blockId'], axis=1)\n",
    "x.drop(index=x.index[0], axis=0, inplace=True)\n",
    "x"
   ]
  },
  {
   "cell_type": "code",
   "execution_count": 16,
   "id": "2c831500",
   "metadata": {},
   "outputs": [
    {
     "data": {
      "text/html": [
       "<div>\n",
       "<style scoped>\n",
       "    .dataframe tbody tr th:only-of-type {\n",
       "        vertical-align: middle;\n",
       "    }\n",
       "\n",
       "    .dataframe tbody tr th {\n",
       "        vertical-align: top;\n",
       "    }\n",
       "\n",
       "    .dataframe thead th {\n",
       "        text-align: right;\n",
       "    }\n",
       "</style>\n",
       "<table border=\"1\" class=\"dataframe\">\n",
       "  <thead>\n",
       "    <tr style=\"text-align: right;\">\n",
       "      <th></th>\n",
       "      <th>blockId</th>\n",
       "      <th>timestamp</th>\n",
       "      <th>numOnes</th>\n",
       "      <th>numBits</th>\n",
       "      <th>ratio</th>\n",
       "    </tr>\n",
       "    <tr>\n",
       "      <th>timestamp</th>\n",
       "      <th></th>\n",
       "      <th></th>\n",
       "      <th></th>\n",
       "      <th></th>\n",
       "      <th></th>\n",
       "    </tr>\n",
       "  </thead>\n",
       "  <tbody>\n",
       "    <tr>\n",
       "      <th>1970</th>\n",
       "      <td>1</td>\n",
       "      <td>1</td>\n",
       "      <td>1</td>\n",
       "      <td>1</td>\n",
       "      <td>1</td>\n",
       "    </tr>\n",
       "    <tr>\n",
       "      <th>2015</th>\n",
       "      <td>778482</td>\n",
       "      <td>778482</td>\n",
       "      <td>778482</td>\n",
       "      <td>778482</td>\n",
       "      <td>778482</td>\n",
       "    </tr>\n",
       "    <tr>\n",
       "      <th>2016</th>\n",
       "      <td>2133924</td>\n",
       "      <td>2133924</td>\n",
       "      <td>2133924</td>\n",
       "      <td>2133924</td>\n",
       "      <td>2133924</td>\n",
       "    </tr>\n",
       "    <tr>\n",
       "      <th>2017</th>\n",
       "      <td>1920279</td>\n",
       "      <td>1920279</td>\n",
       "      <td>1920279</td>\n",
       "      <td>1920279</td>\n",
       "      <td>1920279</td>\n",
       "    </tr>\n",
       "    <tr>\n",
       "      <th>2018</th>\n",
       "      <td>2155929</td>\n",
       "      <td>2155929</td>\n",
       "      <td>2155929</td>\n",
       "      <td>2155929</td>\n",
       "      <td>2155929</td>\n",
       "    </tr>\n",
       "    <tr>\n",
       "      <th>2019</th>\n",
       "      <td>2204651</td>\n",
       "      <td>2204651</td>\n",
       "      <td>2204651</td>\n",
       "      <td>2204651</td>\n",
       "      <td>2204651</td>\n",
       "    </tr>\n",
       "    <tr>\n",
       "      <th>2020</th>\n",
       "      <td>2371753</td>\n",
       "      <td>2371753</td>\n",
       "      <td>2371753</td>\n",
       "      <td>2371753</td>\n",
       "      <td>2371753</td>\n",
       "    </tr>\n",
       "    <tr>\n",
       "      <th>2021</th>\n",
       "      <td>2351147</td>\n",
       "      <td>2351147</td>\n",
       "      <td>2351147</td>\n",
       "      <td>2351147</td>\n",
       "      <td>2351147</td>\n",
       "    </tr>\n",
       "    <tr>\n",
       "      <th>2022</th>\n",
       "      <td>1083834</td>\n",
       "      <td>1083834</td>\n",
       "      <td>1083834</td>\n",
       "      <td>1083834</td>\n",
       "      <td>1083834</td>\n",
       "    </tr>\n",
       "  </tbody>\n",
       "</table>\n",
       "</div>"
      ],
      "text/plain": [
       "           blockId  timestamp  numOnes  numBits    ratio\n",
       "timestamp                                               \n",
       "1970             1          1        1        1        1\n",
       "2015        778482     778482   778482   778482   778482\n",
       "2016       2133924    2133924  2133924  2133924  2133924\n",
       "2017       1920279    1920279  1920279  1920279  1920279\n",
       "2018       2155929    2155929  2155929  2155929  2155929\n",
       "2019       2204651    2204651  2204651  2204651  2204651\n",
       "2020       2371753    2371753  2371753  2371753  2371753\n",
       "2021       2351147    2351147  2351147  2351147  2351147\n",
       "2022       1083834    1083834  1083834  1083834  1083834"
      ]
     },
     "execution_count": 16,
     "metadata": {},
     "output_type": "execute_result"
    }
   ],
   "source": [
    "filters_ones.groupby([filters_ones.timestamp.dt.year]).count()"
   ]
  },
  {
   "cell_type": "code",
   "execution_count": 13,
   "id": "f3af987a",
   "metadata": {},
   "outputs": [
    {
     "name": "stdout",
     "output_type": "stream",
     "text": [
      "\\begin{tabular}{lrr}\n",
      "\\toprule\n",
      "{} &  numOnes &  ratio \\\\\n",
      "timestamp &          &        \\\\\n",
      "\\midrule\n",
      "2015      &     0.91 &   0.04 \\\\\n",
      "2016      &     6.73 &   0.33 \\\\\n",
      "2017      &   111.16 &   5.43 \\\\\n",
      "2018      &   362.79 &  17.71 \\\\\n",
      "2019      &   447.31 &  21.84 \\\\\n",
      "2020      &   632.56 &  30.89 \\\\\n",
      "2021      &   805.25 &  39.32 \\\\\n",
      "2022      &   808.04 &  39.46 \\\\\n",
      "\\bottomrule\n",
      "\\end{tabular}\n",
      "\n"
     ]
    },
    {
     "name": "stderr",
     "output_type": "stream",
     "text": [
      "/var/folders/gm/grbx3p550ps44z3jf7l2r4700000gn/T/ipykernel_2888/3895306462.py:2: SettingWithCopyWarning: \n",
      "A value is trying to be set on a copy of a slice from a DataFrame.\n",
      "Try using .loc[row_indexer,col_indexer] = value instead\n",
      "\n",
      "See the caveats in the documentation: https://pandas.pydata.org/pandas-docs/stable/user_guide/indexing.html#returning-a-view-versus-a-copy\n",
      "  xl['numOnes'] = xl['numOnes'].round(2)\n",
      "/var/folders/gm/grbx3p550ps44z3jf7l2r4700000gn/T/ipykernel_2888/3895306462.py:3: SettingWithCopyWarning: \n",
      "A value is trying to be set on a copy of a slice from a DataFrame.\n",
      "Try using .loc[row_indexer,col_indexer] = value instead\n",
      "\n",
      "See the caveats in the documentation: https://pandas.pydata.org/pandas-docs/stable/user_guide/indexing.html#returning-a-view-versus-a-copy\n",
      "  xl['ratio'] *= 100\n",
      "/var/folders/gm/grbx3p550ps44z3jf7l2r4700000gn/T/ipykernel_2888/3895306462.py:4: SettingWithCopyWarning: \n",
      "A value is trying to be set on a copy of a slice from a DataFrame.\n",
      "Try using .loc[row_indexer,col_indexer] = value instead\n",
      "\n",
      "See the caveats in the documentation: https://pandas.pydata.org/pandas-docs/stable/user_guide/indexing.html#returning-a-view-versus-a-copy\n",
      "  xl['ratio'] = xl['ratio'].round(2)\n",
      "/var/folders/gm/grbx3p550ps44z3jf7l2r4700000gn/T/ipykernel_2888/3895306462.py:5: FutureWarning: In future versions `DataFrame.to_latex` is expected to utilise the base implementation of `Styler.to_latex` for formatting and rendering. The arguments signature may therefore change. It is recommended instead to use `DataFrame.style.to_latex` which also contains additional functionality.\n",
      "  print(xl.to_latex())\n"
     ]
    }
   ],
   "source": [
    "xl = x[['numOnes', 'ratio']]\n",
    "xl['numOnes'] = xl['numOnes'].round(2)\n",
    "xl['ratio'] *= 100\n",
    "xl['ratio'] = xl['ratio'].round(2)\n",
    "print(xl.to_latex())"
   ]
  },
  {
   "cell_type": "markdown",
   "id": "0dc097fa",
   "metadata": {},
   "source": [
    "We plot the average number of ones per year."
   ]
  },
  {
   "cell_type": "code",
   "execution_count": 17,
   "id": "6b841fd7",
   "metadata": {},
   "outputs": [
    {
     "data": {
      "image/png": "[encoded data removed]",
      "text/plain": [
       "<Figure size 500x400 with 1 Axes>"
      ]
     },
     "metadata": {},
     "output_type": "display_data"
    }
   ],
   "source": [
    "plt.figure(figsize=(5, 4))\n",
    "plt.title('Average number of ones per year')\n",
    "plt.xlabel('Year')\n",
    "plt.ylabel('N. of ones')\n",
    "plt.bar(x.index, x.numOnes, color='#648fff')\n",
    "plt.savefig(\"figures/ones_year.pdf\", format='pdf', bbox_inches='tight')\n",
    "plt.show()"
   ]
  },
  {
   "cell_type": "markdown",
   "id": "e7b92f38",
   "metadata": {},
   "source": [
    "We do the same for the ratio."
   ]
  },
  {
   "cell_type": "code",
   "execution_count": 18,
   "id": "54f13ea8",
   "metadata": {},
   "outputs": [
    {
     "data": {
      "image/png": "[encoded data removed]",
      "text/plain": [
       "<Figure size 500x400 with 1 Axes>"
      ]
     },
     "metadata": {},
     "output_type": "display_data"
    }
   ],
   "source": [
    "plt.figure(figsize=(5, 4))\n",
    "plt.title('Average ratio per year')\n",
    "plt.xlabel('Year')\n",
    "plt.ylabel('Ratio (%)')\n",
    "plt.bar(x.index, x.ratio*100, color='#648fff')\n",
    "plt.savefig(\"figures/ratio_year.pdf\", format='pdf', bbox_inches='tight')\n",
    "plt.show()"
   ]
  },
  {
   "cell_type": "markdown",
   "id": "7604dcd3",
   "metadata": {},
   "source": [
    "# Receipt analysis"
   ]
  },
  {
   "cell_type": "markdown",
   "id": "731e524d",
   "metadata": {},
   "source": [
    "In this section we conduct an analysis of the TX receipts for all blocks in our data set."
   ]
  },
  {
   "cell_type": "code",
   "execution_count": 21,
   "id": "1ff5c62c",
   "metadata": {},
   "outputs": [
    {
     "data": {
      "text/html": [
       "<div>\n",
       "<style scoped>\n",
       "    .dataframe tbody tr th:only-of-type {\n",
       "        vertical-align: middle;\n",
       "    }\n",
       "\n",
       "    .dataframe tbody tr th {\n",
       "        vertical-align: top;\n",
       "    }\n",
       "\n",
       "    .dataframe thead th {\n",
       "        text-align: right;\n",
       "    }\n",
       "</style>\n",
       "<table border=\"1\" class=\"dataframe\">\n",
       "  <thead>\n",
       "    <tr style=\"text-align: right;\">\n",
       "      <th></th>\n",
       "      <th>blockId</th>\n",
       "      <th>txCount</th>\n",
       "      <th>numLogs</th>\n",
       "      <th>numKeys</th>\n",
       "      <th>numDistKeys</th>\n",
       "      <th>timestamp</th>\n",
       "    </tr>\n",
       "  </thead>\n",
       "  <tbody>\n",
       "    <tr>\n",
       "      <th>0</th>\n",
       "      <td>0</td>\n",
       "      <td>0</td>\n",
       "      <td>0</td>\n",
       "      <td>0</td>\n",
       "      <td>0</td>\n",
       "      <td>1970-01-01 00:00:00</td>\n",
       "    </tr>\n",
       "    <tr>\n",
       "      <th>1</th>\n",
       "      <td>1</td>\n",
       "      <td>0</td>\n",
       "      <td>0</td>\n",
       "      <td>0</td>\n",
       "      <td>0</td>\n",
       "      <td>2015-07-30 15:26:28</td>\n",
       "    </tr>\n",
       "    <tr>\n",
       "      <th>2</th>\n",
       "      <td>2</td>\n",
       "      <td>0</td>\n",
       "      <td>0</td>\n",
       "      <td>0</td>\n",
       "      <td>0</td>\n",
       "      <td>2015-07-30 15:26:57</td>\n",
       "    </tr>\n",
       "    <tr>\n",
       "      <th>3</th>\n",
       "      <td>3</td>\n",
       "      <td>0</td>\n",
       "      <td>0</td>\n",
       "      <td>0</td>\n",
       "      <td>0</td>\n",
       "      <td>2015-07-30 15:27:28</td>\n",
       "    </tr>\n",
       "    <tr>\n",
       "      <th>4</th>\n",
       "      <td>4</td>\n",
       "      <td>0</td>\n",
       "      <td>0</td>\n",
       "      <td>0</td>\n",
       "      <td>0</td>\n",
       "      <td>2015-07-30 15:27:57</td>\n",
       "    </tr>\n",
       "  </tbody>\n",
       "</table>\n",
       "</div>"
      ],
      "text/plain": [
       "   blockId  txCount  numLogs  numKeys  numDistKeys           timestamp\n",
       "0        0        0        0        0            0 1970-01-01 00:00:00\n",
       "1        1        0        0        0            0 2015-07-30 15:26:28\n",
       "2        2        0        0        0            0 2015-07-30 15:26:57\n",
       "3        3        0        0        0            0 2015-07-30 15:27:28\n",
       "4        4        0        0        0            0 2015-07-30 15:27:57"
      ]
     },
     "execution_count": 21,
     "metadata": {},
     "output_type": "execute_result"
    }
   ],
   "source": [
    "receipts = pd.read_csv('data/receipt_stats_0-14999999.csv.xz', compression='xz', header=None)\n",
    "receipts.columns = ['blockId', 'txCount', 'numLogs', 'numKeys', 'numDistKeys']\n",
    "receipts['timestamp'] = filters_ones['timestamp'].values\n",
    "receipts.head()"
   ]
  },
  {
   "cell_type": "code",
   "execution_count": 46,
   "id": "ea974348",
   "metadata": {},
   "outputs": [],
   "source": [
    "# Check that the length is correct (should be 15000000).\n",
    "assert len(receipts) == 15000000"
   ]
  },
  {
   "cell_type": "markdown",
   "id": "4e0f065f",
   "metadata": {},
   "source": [
    "We first print some basic statistics about all blocks."
   ]
  },
  {
   "cell_type": "code",
   "execution_count": 34,
   "id": "ba25a338",
   "metadata": {},
   "outputs": [
    {
     "data": {
      "text/html": [
       "<div>\n",
       "<style scoped>\n",
       "    .dataframe tbody tr th:only-of-type {\n",
       "        vertical-align: middle;\n",
       "    }\n",
       "\n",
       "    .dataframe tbody tr th {\n",
       "        vertical-align: top;\n",
       "    }\n",
       "\n",
       "    .dataframe thead th {\n",
       "        text-align: right;\n",
       "    }\n",
       "</style>\n",
       "<table border=\"1\" class=\"dataframe\">\n",
       "  <thead>\n",
       "    <tr style=\"text-align: right;\">\n",
       "      <th></th>\n",
       "      <th>Average</th>\n",
       "      <th>Std. deviation</th>\n",
       "    </tr>\n",
       "    <tr>\n",
       "      <th>Attribute</th>\n",
       "      <th></th>\n",
       "      <th></th>\n",
       "    </tr>\n",
       "  </thead>\n",
       "  <tbody>\n",
       "    <tr>\n",
       "      <th>Transactions</th>\n",
       "      <td>107.577962</td>\n",
       "      <td>101.440702</td>\n",
       "    </tr>\n",
       "    <tr>\n",
       "      <th>Logs</th>\n",
       "      <td>136.336956</td>\n",
       "      <td>161.023985</td>\n",
       "    </tr>\n",
       "    <tr>\n",
       "      <th>Keys</th>\n",
       "      <td>513.159945</td>\n",
       "      <td>641.257230</td>\n",
       "    </tr>\n",
       "    <tr>\n",
       "      <th>Unique keys</th>\n",
       "      <td>177.330260</td>\n",
       "      <td>188.956036</td>\n",
       "    </tr>\n",
       "  </tbody>\n",
       "</table>\n",
       "</div>"
      ],
      "text/plain": [
       "                 Average  Std. deviation\n",
       "Attribute                               \n",
       "Transactions  107.577962      101.440702\n",
       "Logs          136.336956      161.023985\n",
       "Keys          513.159945      641.257230\n",
       "Unique keys   177.330260      188.956036"
      ]
     },
     "execution_count": 34,
     "metadata": {},
     "output_type": "execute_result"
    }
   ],
   "source": [
    "data = [\n",
    "    ['Transactions', receipts.txCount.mean(), receipts.txCount.std()],\n",
    "    ['Logs', receipts.numLogs.mean(), receipts.numLogs.std()],\n",
    "    ['Keys', receipts.numKeys.mean(), receipts.numKeys.std()],\n",
    "    ['Unique keys', receipts.numDistKeys.mean(), receipts.numDistKeys.std()]\n",
    "]\n",
    "basic_receipt_stats = pd.DataFrame(data, columns=['Attribute', 'Average', 'Std. deviation']).set_index('Attribute')\n",
    "basic_receipt_stats"
   ]
  },
  {
   "cell_type": "markdown",
   "id": "034249ef",
   "metadata": {},
   "source": [
    "Then we plot the distribution of the number of keys."
   ]
  },
  {
   "cell_type": "code",
   "execution_count": 35,
   "id": "0cb168a0",
   "metadata": {
    "scrolled": false
   },
   "outputs": [
    {
     "data": {
      "image/png": "[encoded data removed]",
      "text/plain": [
       "<Figure size 500x400 with 1 Axes>"
      ]
     },
     "metadata": {},
     "output_type": "display_data"
    }
   ],
   "source": [
    "plt.figure(figsize=(5, 4))\n",
    "plt.title('Distribution of keys')\n",
    "plt.xlabel('N. of keys')\n",
    "plt.ylabel('N. of blocks')\n",
    "plt.yscale('log')\n",
    "plt.hist(receipts['numKeys'], bins='auto', color='#648fff')\n",
    "plt.savefig(\"figures/dist_keys.pdf\", format='pdf', bbox_inches='tight')\n",
    "plt.show()"
   ]
  },
  {
   "cell_type": "markdown",
   "id": "6ee38b46",
   "metadata": {},
   "source": [
    "We repeat this process for *unique* keys. The shape of the distribution is similar to the one of the previous experiment."
   ]
  },
  {
   "cell_type": "code",
   "execution_count": 44,
   "id": "64d46ad6",
   "metadata": {},
   "outputs": [
    {
     "data": {
      "image/png": "[encoded data removed]",
      "text/plain": [
       "<Figure size 500x400 with 1 Axes>"
      ]
     },
     "metadata": {},
     "output_type": "display_data"
    }
   ],
   "source": [
    "plt.figure(figsize=(5, 4))\n",
    "plt.title('Distribution of unique keys')\n",
    "plt.xlabel('N. of unique keys')\n",
    "plt.ylabel('N. of blocks')\n",
    "plt.yscale('log')\n",
    "plt.hist(receipts['numDistKeys'], bins='auto', color='#dc267f')\n",
    "plt.savefig(\"figures/dist_unique_keys.pdf\", format='pdf', bbox_inches='tight')\n",
    "plt.show()"
   ]
  },
  {
   "cell_type": "markdown",
   "id": "0f8320d4",
   "metadata": {},
   "source": [
    "We compute some statistics on a yearly basis. We are interested in the average number of transactions, the average number of logs and the average number of keys."
   ]
  },
  {
   "cell_type": "code",
   "execution_count": 38,
   "id": "88d94056",
   "metadata": {},
   "outputs": [
    {
     "data": {
      "text/html": [
       "<div>\n",
       "<style scoped>\n",
       "    .dataframe tbody tr th:only-of-type {\n",
       "        vertical-align: middle;\n",
       "    }\n",
       "\n",
       "    .dataframe tbody tr th {\n",
       "        vertical-align: top;\n",
       "    }\n",
       "\n",
       "    .dataframe thead th {\n",
       "        text-align: right;\n",
       "    }\n",
       "</style>\n",
       "<table border=\"1\" class=\"dataframe\">\n",
       "  <thead>\n",
       "    <tr style=\"text-align: right;\">\n",
       "      <th></th>\n",
       "      <th>txCount</th>\n",
       "      <th>numLogs</th>\n",
       "      <th>numKeys</th>\n",
       "      <th>numDistKeys</th>\n",
       "    </tr>\n",
       "    <tr>\n",
       "      <th>timestamp</th>\n",
       "      <th></th>\n",
       "      <th></th>\n",
       "      <th></th>\n",
       "      <th></th>\n",
       "    </tr>\n",
       "  </thead>\n",
       "  <tbody>\n",
       "    <tr>\n",
       "      <th>2015</th>\n",
       "      <td>1.344005</td>\n",
       "      <td>0.401634</td>\n",
       "      <td>1.463573</td>\n",
       "      <td>0.307602</td>\n",
       "    </tr>\n",
       "    <tr>\n",
       "      <th>2016</th>\n",
       "      <td>6.401859</td>\n",
       "      <td>1.782235</td>\n",
       "      <td>6.145964</td>\n",
       "      <td>2.269312</td>\n",
       "    </tr>\n",
       "    <tr>\n",
       "      <th>2017</th>\n",
       "      <td>53.607332</td>\n",
       "      <td>28.958577</td>\n",
       "      <td>96.622158</td>\n",
       "      <td>39.921924</td>\n",
       "    </tr>\n",
       "    <tr>\n",
       "      <th>2018</th>\n",
       "      <td>116.500371</td>\n",
       "      <td>98.452620</td>\n",
       "      <td>357.626466</td>\n",
       "      <td>137.481850</td>\n",
       "    </tr>\n",
       "    <tr>\n",
       "      <th>2019</th>\n",
       "      <td>110.145377</td>\n",
       "      <td>112.603559</td>\n",
       "      <td>431.356084</td>\n",
       "      <td>176.914349</td>\n",
       "    </tr>\n",
       "    <tr>\n",
       "      <th>2020</th>\n",
       "      <td>145.363775</td>\n",
       "      <td>201.884662</td>\n",
       "      <td>743.247063</td>\n",
       "      <td>261.638704</td>\n",
       "    </tr>\n",
       "    <tr>\n",
       "      <th>2021</th>\n",
       "      <td>196.417903</td>\n",
       "      <td>301.762798</td>\n",
       "      <td>1129.113881</td>\n",
       "      <td>359.359758</td>\n",
       "    </tr>\n",
       "    <tr>\n",
       "      <th>2022</th>\n",
       "      <td>180.330244</td>\n",
       "      <td>310.483257</td>\n",
       "      <td>1253.038045</td>\n",
       "      <td>393.349129</td>\n",
       "    </tr>\n",
       "  </tbody>\n",
       "</table>\n",
       "</div>"
      ],
      "text/plain": [
       "              txCount     numLogs      numKeys  numDistKeys\n",
       "timestamp                                                  \n",
       "2015         1.344005    0.401634     1.463573     0.307602\n",
       "2016         6.401859    1.782235     6.145964     2.269312\n",
       "2017        53.607332   28.958577    96.622158    39.921924\n",
       "2018       116.500371   98.452620   357.626466   137.481850\n",
       "2019       110.145377  112.603559   431.356084   176.914349\n",
       "2020       145.363775  201.884662   743.247063   261.638704\n",
       "2021       196.417903  301.762798  1129.113881   359.359758\n",
       "2022       180.330244  310.483257  1253.038045   393.349129"
      ]
     },
     "execution_count": 38,
     "metadata": {},
     "output_type": "execute_result"
    }
   ],
   "source": [
    "y = receipts.groupby([receipts.timestamp.dt.year]).mean('numKeys').drop(['blockId'], axis=1)\n",
    "y.drop(index=y.index[0], axis=0, inplace=True)\n",
    "y"
   ]
  },
  {
   "cell_type": "markdown",
   "id": "14701376",
   "metadata": {},
   "source": [
    "We plot the average number of keys per year."
   ]
  },
  {
   "cell_type": "code",
   "execution_count": 47,
   "id": "cc84ab8a",
   "metadata": {
    "scrolled": false
   },
   "outputs": [
    {
     "data": {
      "image/png": "[encoded data removed]",
      "text/plain": [
       "<Figure size 500x400 with 1 Axes>"
      ]
     },
     "metadata": {},
     "output_type": "display_data"
    }
   ],
   "source": [
    "plt.figure(figsize=(5, 4))\n",
    "plt.title('Average number of keys per year')\n",
    "plt.xlabel('Year')\n",
    "plt.ylabel('N. of keys')\n",
    "plt.bar(y.index, y.numKeys, color='#648fff', label='Total')\n",
    "plt.bar(y.index, y.numDistKeys, color='#dc267f', label='Unique')\n",
    "plt.legend(loc='upper left')\n",
    "plt.savefig(\"figures/keys_year.pdf\", format='pdf', bbox_inches='tight')\n",
    "plt.show()"
   ]
  },
  {
   "cell_type": "raw",
   "id": "c1f3ade7",
   "metadata": {},
   "source": [
    "years = [2015, 2016, 2017, 2018, 2019, 2020, 2021, 2022]\n",
    "months = [i for i in range(1, 12+1, 1)]\n",
    "bins = []\n",
    "for y in years:\n",
    "    for m in months:\n",
    "        bins.append(datetime.date(y, m, 1))\n",
    "hist_bins = mdates.date2num(bins)\n",
    "\n",
    "fig = plt.figure(figsize=(5,4))\n",
    "ax1 = fig.add_subplot(1, 1, 1)\n",
    "ax1.set_title('Number of blocks per month')\n",
    "ax1.set_xlabel('Year')\n",
    "ax1.set_ylabel('N. of blocks')\n",
    "#ax1.set_yscale('log')\n",
    "ax1.xaxis.set_major_locator(mdates.YearLocator())\n",
    "ax1.xaxis.set_major_formatter(mdates.DateFormatter('%Y'))\n",
    "ax1.hist(filters_ones['timestamp'].values, bins=hist_bins, color='#648fff')\n",
    "plt.show()\n",
    "#ax1.legend(loc='upper left')"
   ]
  },
  {
   "cell_type": "code",
   "execution_count": null,
   "id": "1553ba0a",
   "metadata": {},
   "outputs": [],
   "source": []
  }
 ],
 "metadata": {
  "kernelspec": {
   "display_name": "Python 3 (ipykernel)",
   "language": "python",
   "name": "python3"
  },
  "language_info": {
   "codemirror_mode": {
    "name": "ipython",
    "version": 3
   },
   "file_extension": ".py",
   "mimetype": "text/x-python",
   "name": "python",
   "nbconvert_exporter": "python",
   "pygments_lexer": "ipython3",
   "version": "3.8.2"
  }
 },
 "nbformat": 4,
 "nbformat_minor": 5
}
