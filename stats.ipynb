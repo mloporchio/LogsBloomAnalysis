{
 "cells": [
  {
   "cell_type": "code",
   "execution_count": 13,
   "id": "1206d1c7",
   "metadata": {},
   "outputs": [],
   "source": [
    "import pandas as pd\n",
    "import numpy as np\n",
    "import matplotlib.pyplot as plt\n",
    "import matplotlib.dates as mdates\n",
    "import datetime"
   ]
  },
  {
   "cell_type": "markdown",
   "id": "f084e214",
   "metadata": {},
   "source": [
    "# Filter analysis"
   ]
  },
  {
   "cell_type": "code",
   "execution_count": 14,
   "id": "8b9192d8",
   "metadata": {},
   "outputs": [
    {
     "data": {
      "text/html": [
       "<div>\n",
       "<style scoped>\n",
       "    .dataframe tbody tr th:only-of-type {\n",
       "        vertical-align: middle;\n",
       "    }\n",
       "\n",
       "    .dataframe tbody tr th {\n",
       "        vertical-align: top;\n",
       "    }\n",
       "\n",
       "    .dataframe thead th {\n",
       "        text-align: right;\n",
       "    }\n",
       "</style>\n",
       "<table border=\"1\" class=\"dataframe\">\n",
       "  <thead>\n",
       "    <tr style=\"text-align: right;\">\n",
       "      <th></th>\n",
       "      <th>blockId</th>\n",
       "      <th>timestamp</th>\n",
       "      <th>numOnes</th>\n",
       "      <th>numBits</th>\n",
       "      <th>ratio</th>\n",
       "    </tr>\n",
       "  </thead>\n",
       "  <tbody>\n",
       "    <tr>\n",
       "      <th>0</th>\n",
       "      <td>0</td>\n",
       "      <td>1970-01-01 00:00:00</td>\n",
       "      <td>0</td>\n",
       "      <td>2048</td>\n",
       "      <td>0.0</td>\n",
       "    </tr>\n",
       "    <tr>\n",
       "      <th>1</th>\n",
       "      <td>1</td>\n",
       "      <td>2015-07-30 15:26:28</td>\n",
       "      <td>0</td>\n",
       "      <td>2048</td>\n",
       "      <td>0.0</td>\n",
       "    </tr>\n",
       "    <tr>\n",
       "      <th>2</th>\n",
       "      <td>2</td>\n",
       "      <td>2015-07-30 15:26:57</td>\n",
       "      <td>0</td>\n",
       "      <td>2048</td>\n",
       "      <td>0.0</td>\n",
       "    </tr>\n",
       "    <tr>\n",
       "      <th>3</th>\n",
       "      <td>3</td>\n",
       "      <td>2015-07-30 15:27:28</td>\n",
       "      <td>0</td>\n",
       "      <td>2048</td>\n",
       "      <td>0.0</td>\n",
       "    </tr>\n",
       "    <tr>\n",
       "      <th>4</th>\n",
       "      <td>4</td>\n",
       "      <td>2015-07-30 15:27:57</td>\n",
       "      <td>0</td>\n",
       "      <td>2048</td>\n",
       "      <td>0.0</td>\n",
       "    </tr>\n",
       "  </tbody>\n",
       "</table>\n",
       "</div>"
      ],
      "text/plain": [
       "   blockId           timestamp  numOnes  numBits  ratio\n",
       "0        0 1970-01-01 00:00:00        0     2048    0.0\n",
       "1        1 2015-07-30 15:26:28        0     2048    0.0\n",
       "2        2 2015-07-30 15:26:57        0     2048    0.0\n",
       "3        3 2015-07-30 15:27:28        0     2048    0.0\n",
       "4        4 2015-07-30 15:27:57        0     2048    0.0"
      ]
     },
     "execution_count": 14,
     "metadata": {},
     "output_type": "execute_result"
    }
   ],
   "source": [
    "dfs = []\n",
    "for i in range(0, 15):\n",
    "    start = i*1000000\n",
    "    end = start + 999999\n",
    "    dfs.append(pd.read_csv('data/filters_ones_{}-{}.csv'.format(start, end), header=None))\n",
    "filters_ones = pd.concat(dfs)\n",
    "filters_ones.columns = ['blockId', 'timestamp', 'numOnes']\n",
    "filters_ones['timestamp'] = filters_ones['timestamp'].values.astype(dtype='datetime64[s]')\n",
    "filters_ones['numBits'] = 2048\n",
    "filters_ones['ratio'] = filters_ones['numOnes'] / filters_ones['numBits']\n",
    "#filters_ones['estPopulation'] = (-2048/3) * np.log1p(-(filters_ones['numOnes']/2048))\n",
    "filters_ones.head()"
   ]
  },
  {
   "cell_type": "code",
   "execution_count": 15,
   "id": "6e3c5628",
   "metadata": {},
   "outputs": [
    {
     "name": "stdout",
     "output_type": "stream",
     "text": [
      "Avg. number of ones\t: 417.7440142666667\n",
      "Std. deviation\t\t: 371.3960266976995\n",
      "Avg. ratio\t\t: 0.20397656946614584\n"
     ]
    }
   ],
   "source": [
    "print('Avg. number of ones\\t: {}\\nStd. deviation\\t\\t: {}'.format(filters_ones.numOnes.mean(),filters_ones.numOnes.std()))\n",
    "print('Avg. ratio\\t\\t: {}'.format(filters_ones.ratio.mean()))"
   ]
  },
  {
   "cell_type": "code",
   "execution_count": 16,
   "id": "c54a2f5e",
   "metadata": {},
   "outputs": [
    {
     "data": {
      "image/png": "[encoded data removed]",
      "text/plain": [
       "<Figure size 500x400 with 1 Axes>"
      ]
     },
     "metadata": {},
     "output_type": "display_data"
    }
   ],
   "source": [
    "plt.figure(figsize=(5, 4))\n",
    "plt.title('Distribution of ones')\n",
    "plt.xlabel('N. of ones')\n",
    "plt.ylabel('N. of blocks')\n",
    "plt.yscale('log')\n",
    "plt.hist(filters_ones['numOnes'], bins='auto', color='#648fff')\n",
    "plt.savefig(\"figures/dist_ones.pdf\", format='pdf', bbox_inches='tight')\n",
    "plt.show()"
   ]
  },
  {
   "cell_type": "markdown",
   "id": "15c05996",
   "metadata": {},
   "source": [
    "Now we compute the average number of ones and ratio for each year."
   ]
  },
  {
   "cell_type": "code",
   "execution_count": 18,
   "id": "bf7f7fc4",
   "metadata": {},
   "outputs": [
    {
     "data": {
      "text/html": [
       "<div>\n",
       "<style scoped>\n",
       "    .dataframe tbody tr th:only-of-type {\n",
       "        vertical-align: middle;\n",
       "    }\n",
       "\n",
       "    .dataframe tbody tr th {\n",
       "        vertical-align: top;\n",
       "    }\n",
       "\n",
       "    .dataframe thead th {\n",
       "        text-align: right;\n",
       "    }\n",
       "</style>\n",
       "<table border=\"1\" class=\"dataframe\">\n",
       "  <thead>\n",
       "    <tr style=\"text-align: right;\">\n",
       "      <th></th>\n",
       "      <th>numOnes</th>\n",
       "      <th>numBits</th>\n",
       "      <th>ratio</th>\n",
       "    </tr>\n",
       "    <tr>\n",
       "      <th>timestamp</th>\n",
       "      <th></th>\n",
       "      <th></th>\n",
       "      <th></th>\n",
       "    </tr>\n",
       "  </thead>\n",
       "  <tbody>\n",
       "    <tr>\n",
       "      <th>2015</th>\n",
       "      <td>0.914518</td>\n",
       "      <td>2048.0</td>\n",
       "      <td>0.000447</td>\n",
       "    </tr>\n",
       "    <tr>\n",
       "      <th>2016</th>\n",
       "      <td>6.727867</td>\n",
       "      <td>2048.0</td>\n",
       "      <td>0.003285</td>\n",
       "    </tr>\n",
       "    <tr>\n",
       "      <th>2017</th>\n",
       "      <td>111.158306</td>\n",
       "      <td>2048.0</td>\n",
       "      <td>0.054277</td>\n",
       "    </tr>\n",
       "    <tr>\n",
       "      <th>2018</th>\n",
       "      <td>362.787394</td>\n",
       "      <td>2048.0</td>\n",
       "      <td>0.177142</td>\n",
       "    </tr>\n",
       "    <tr>\n",
       "      <th>2019</th>\n",
       "      <td>447.308092</td>\n",
       "      <td>2048.0</td>\n",
       "      <td>0.218412</td>\n",
       "    </tr>\n",
       "    <tr>\n",
       "      <th>2020</th>\n",
       "      <td>632.564766</td>\n",
       "      <td>2048.0</td>\n",
       "      <td>0.308870</td>\n",
       "    </tr>\n",
       "    <tr>\n",
       "      <th>2021</th>\n",
       "      <td>805.251780</td>\n",
       "      <td>2048.0</td>\n",
       "      <td>0.393189</td>\n",
       "    </tr>\n",
       "    <tr>\n",
       "      <th>2022</th>\n",
       "      <td>808.040508</td>\n",
       "      <td>2048.0</td>\n",
       "      <td>0.394551</td>\n",
       "    </tr>\n",
       "  </tbody>\n",
       "</table>\n",
       "</div>"
      ],
      "text/plain": [
       "              numOnes  numBits     ratio\n",
       "timestamp                               \n",
       "2015         0.914518   2048.0  0.000447\n",
       "2016         6.727867   2048.0  0.003285\n",
       "2017       111.158306   2048.0  0.054277\n",
       "2018       362.787394   2048.0  0.177142\n",
       "2019       447.308092   2048.0  0.218412\n",
       "2020       632.564766   2048.0  0.308870\n",
       "2021       805.251780   2048.0  0.393189\n",
       "2022       808.040508   2048.0  0.394551"
      ]
     },
     "execution_count": 18,
     "metadata": {},
     "output_type": "execute_result"
    }
   ],
   "source": [
    "x = filters_ones.groupby([filters_ones.timestamp.dt.year]).mean('numOnes').drop(['blockId'], axis=1)\n",
    "x.drop(index=x.index[0], axis=0, inplace=True)\n",
    "x"
   ]
  },
  {
   "cell_type": "markdown",
   "id": "0dc097fa",
   "metadata": {},
   "source": [
    "We plot the average number of ones per year."
   ]
  },
  {
   "cell_type": "code",
   "execution_count": 25,
   "id": "6b841fd7",
   "metadata": {},
   "outputs": [
    {
     "data": {
      "image/png": "[encoded data removed]",
      "text/plain": [
       "<Figure size 500x400 with 1 Axes>"
      ]
     },
     "metadata": {},
     "output_type": "display_data"
    }
   ],
   "source": [
    "plt.figure(figsize=(5, 4))\n",
    "plt.title('Average number of ones per year')\n",
    "plt.xlabel('Year')\n",
    "plt.ylabel('N. of ones')\n",
    "plt.plot(x.index, x.numOnes, color='#648fff')\n",
    "plt.show()"
   ]
  },
  {
   "cell_type": "markdown",
   "id": "7604dcd3",
   "metadata": {},
   "source": [
    "# Receipt analysis"
   ]
  },
  {
   "cell_type": "code",
   "execution_count": 3,
   "id": "1ff5c62c",
   "metadata": {},
   "outputs": [
    {
     "data": {
      "text/html": [
       "<div>\n",
       "<style scoped>\n",
       "    .dataframe tbody tr th:only-of-type {\n",
       "        vertical-align: middle;\n",
       "    }\n",
       "\n",
       "    .dataframe tbody tr th {\n",
       "        vertical-align: top;\n",
       "    }\n",
       "\n",
       "    .dataframe thead th {\n",
       "        text-align: right;\n",
       "    }\n",
       "</style>\n",
       "<table border=\"1\" class=\"dataframe\">\n",
       "  <thead>\n",
       "    <tr style=\"text-align: right;\">\n",
       "      <th></th>\n",
       "      <th>blockId</th>\n",
       "      <th>txCount</th>\n",
       "      <th>numLogs</th>\n",
       "      <th>numKeys</th>\n",
       "    </tr>\n",
       "  </thead>\n",
       "  <tbody>\n",
       "    <tr>\n",
       "      <th>0</th>\n",
       "      <td>0</td>\n",
       "      <td>0</td>\n",
       "      <td>0</td>\n",
       "      <td>0</td>\n",
       "    </tr>\n",
       "    <tr>\n",
       "      <th>1</th>\n",
       "      <td>1</td>\n",
       "      <td>0</td>\n",
       "      <td>0</td>\n",
       "      <td>0</td>\n",
       "    </tr>\n",
       "    <tr>\n",
       "      <th>2</th>\n",
       "      <td>2</td>\n",
       "      <td>0</td>\n",
       "      <td>0</td>\n",
       "      <td>0</td>\n",
       "    </tr>\n",
       "    <tr>\n",
       "      <th>3</th>\n",
       "      <td>3</td>\n",
       "      <td>0</td>\n",
       "      <td>0</td>\n",
       "      <td>0</td>\n",
       "    </tr>\n",
       "    <tr>\n",
       "      <th>4</th>\n",
       "      <td>4</td>\n",
       "      <td>0</td>\n",
       "      <td>0</td>\n",
       "      <td>0</td>\n",
       "    </tr>\n",
       "  </tbody>\n",
       "</table>\n",
       "</div>"
      ],
      "text/plain": [
       "   blockId  txCount  numLogs  numKeys\n",
       "0        0        0        0        0\n",
       "1        1        0        0        0\n",
       "2        2        0        0        0\n",
       "3        3        0        0        0\n",
       "4        4        0        0        0"
      ]
     },
     "execution_count": 3,
     "metadata": {},
     "output_type": "execute_result"
    }
   ],
   "source": [
    "dfs = []\n",
    "for i in range(0, 15):\n",
    "    start = i*1000000\n",
    "    end = start + 999999\n",
    "    dfs.append(pd.read_csv('data/receipt_stats_{}-{}.csv'.format(start, end), header=None))\n",
    "receipts = pd.concat(dfs)\n",
    "receipts.columns = ['blockId', 'txCount', 'numLogs', 'numKeys']\n",
    "receipts.head()"
   ]
  },
  {
   "cell_type": "code",
   "execution_count": 17,
   "id": "154a179c",
   "metadata": {},
   "outputs": [
    {
     "data": {
      "text/plain": [
       "0        1970-01-01 00:00:00\n",
       "1        2015-07-30 15:26:28\n",
       "2        2015-07-30 15:26:57\n",
       "3        2015-07-30 15:27:28\n",
       "4        2015-07-30 15:27:57\n",
       "                 ...        \n",
       "999995   2022-06-21 02:27:32\n",
       "999996   2022-06-21 02:27:35\n",
       "999997   2022-06-21 02:27:51\n",
       "999998   2022-06-21 02:28:08\n",
       "999999   2022-06-21 02:28:10\n",
       "Name: timestamp, Length: 15000000, dtype: datetime64[ns]"
      ]
     },
     "execution_count": 17,
     "metadata": {},
     "output_type": "execute_result"
    }
   ],
   "source": [
    "filters_ones['timestamp']"
   ]
  },
  {
   "cell_type": "code",
   "execution_count": 11,
   "id": "ba25a338",
   "metadata": {},
   "outputs": [
    {
     "name": "stdout",
     "output_type": "stream",
     "text": [
      "Avg. number of TXs\t: 107.57796166666667\n",
      "Avg. number of logs\t: 136.3369556\n",
      "Avg. number of keys\t: 513.1599453333333\n",
      "Std. deviation\t\t: 641.2572299297263\n"
     ]
    }
   ],
   "source": [
    "print('Avg. number of TXs\\t: {}'.format(receipts.txCount.mean()))\n",
    "print('Avg. number of logs\\t: {}'.format(receipts.numLogs.mean()))\n",
    "print('Avg. number of keys\\t: {}\\nStd. deviation\\t\\t: {}'.format(receipts.numKeys.mean(),receipts.numKeys.std()))"
   ]
  },
  {
   "cell_type": "code",
   "execution_count": 12,
   "id": "0cb168a0",
   "metadata": {},
   "outputs": [
    {
     "data": {
      "image/png": "[encoded data removed]",
      "text/plain": [
       "<Figure size 500x400 with 1 Axes>"
      ]
     },
     "metadata": {},
     "output_type": "display_data"
    }
   ],
   "source": [
    "plt.figure(figsize=(5, 4))\n",
    "plt.title('Distribution of keys')\n",
    "plt.xlabel('N. of keys')\n",
    "plt.ylabel('N. of blocks')\n",
    "plt.yscale('log')\n",
    "plt.hist(receipts['numKeys'], bins='auto', color='#648fff')\n",
    "plt.savefig(\"figures/dist_keys.pdf\", format='pdf', bbox_inches='tight')\n",
    "plt.show()"
   ]
  },
  {
   "cell_type": "code",
   "execution_count": null,
   "id": "cc84ab8a",
   "metadata": {},
   "outputs": [],
   "source": []
  },
  {
   "cell_type": "code",
   "execution_count": 28,
   "id": "685ccb75",
   "metadata": {},
   "outputs": [
    {
     "data": {
      "image/png": "[encoded data removed]",
      "text/plain": [
       "<Figure size 500x400 with 1 Axes>"
      ]
     },
     "metadata": {},
     "output_type": "display_data"
    }
   ],
   "source": [
    "years = [2015, 2016, 2017, 2018, 2019, 2020, 2021, 2022]\n",
    "months = [i for i in range(1, 12+1, 1)]\n",
    "bins = []\n",
    "for y in years:\n",
    "    for m in months:\n",
    "        bins.append(datetime.date(y, m, 1))\n",
    "hist_bins = mdates.date2num(bins)\n",
    "\n",
    "fig = plt.figure(figsize=(5,4))\n",
    "ax1 = fig.add_subplot(1, 1, 1)\n",
    "ax1.set_title('Number of blocks per month')\n",
    "ax1.set_xlabel('Year')\n",
    "ax1.set_ylabel('N. of blocks')\n",
    "#ax1.set_yscale('log')\n",
    "ax1.xaxis.set_major_locator(mdates.YearLocator())\n",
    "ax1.xaxis.set_major_formatter(mdates.DateFormatter('%Y'))\n",
    "ax1.hist(filters_ones['timestamp'].values, bins=hist_bins, color='#648fff')\n",
    "plt.show()\n",
    "#ax1.legend(loc='upper left')"
   ]
  },
  {
   "cell_type": "code",
   "execution_count": null,
   "id": "1553ba0a",
   "metadata": {},
   "outputs": [],
   "source": []
  }
 ],
 "metadata": {
  "kernelspec": {
   "display_name": "Python 3 (ipykernel)",
   "language": "python",
   "name": "python3"
  },
  "language_info": {
   "codemirror_mode": {
    "name": "ipython",
    "version": 3
   },
   "file_extension": ".py",
   "mimetype": "text/x-python",
   "name": "python",
   "nbconvert_exporter": "python",
   "pygments_lexer": "ipython3",
   "version": "3.8.2"
  }
 },
 "nbformat": 4,
 "nbformat_minor": 5
}
